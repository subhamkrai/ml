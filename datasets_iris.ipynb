{
 "cells": [
  {
   "cell_type": "code",
   "execution_count": 1,
   "metadata": {},
   "outputs": [
    {
     "data": {
      "text/plain": [
       "<Figure size 640x480 with 1 Axes>"
      ]
     },
     "metadata": {},
     "output_type": "display_data"
    }
   ],
   "source": [
    "from sklearn.datasets import load_iris\n",
    "from sklearn import tree\n",
    "from mpl_toolkits.mplot3d import axes3d\n",
    "import matplotlib.pyplot as plt\n",
    "import numpy as np\n",
    "from matplotlib import style\n",
    "#storing load_iris in iris\n",
    "iris=load_iris()\n",
    "#storing iris.data ie.(150,4)\n",
    "features= iris.data\n",
    "#storing iris.target ie.(0,1,2)\n",
    "output= iris.target\n",
    "\n",
    "style.use('ggplot')\n",
    "fig=plt.figure()\n",
    "ax1 = fig.add_subplot(111, projection='3d')\n",
    "\n",
    "x = iris.data[:50] # for setosa\n",
    "y= iris.data[50:100] # for versicolor\n",
    "z= iris.data[100:150] # for virginica\n",
    "ax1.scatter(x, y, z, c = 'g', marker = 'o')\n",
    "ax1.set_xlabel('setosa')\n",
    "ax1.set_ylabel('versiclor')\n",
    "ax1.set_zlabel('virginica')\n",
    "plt.show()\n",
    "    "
   ]
  },
  {
   "cell_type": "code",
   "execution_count": null,
   "metadata": {},
   "outputs": [],
   "source": []
  }
 ],
 "metadata": {
  "kernelspec": {
   "display_name": "Python 3",
   "language": "python",
   "name": "python3"
  },
  "language_info": {
   "codemirror_mode": {
    "name": "ipython",
    "version": 3
   },
   "file_extension": ".py",
   "mimetype": "text/x-python",
   "name": "python",
   "nbconvert_exporter": "python",
   "pygments_lexer": "ipython3",
   "version": "3.5.2"
  }
 },
 "nbformat": 4,
 "nbformat_minor": 2
}
